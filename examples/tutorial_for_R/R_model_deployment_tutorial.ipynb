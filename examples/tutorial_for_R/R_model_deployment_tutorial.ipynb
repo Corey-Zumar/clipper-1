{
 "cells": [
  {
   "cell_type": "markdown",
   "metadata": {},
   "source": [
    "# Clipper Tutorial : R model deployment using RPy2"
   ]
  },
  {
   "cell_type": "markdown",
   "metadata": {},
   "source": [
    "This tutorial will walk you through the process of starting Clipper, deploying R models to Clipper and creating & querying a Clipper application."
   ]
  },
  {
   "cell_type": "markdown",
   "metadata": {},
   "source": [
    "## Starting Clipper"
   ]
  },
  {
   "cell_type": "markdown",
   "metadata": {},
   "source": [
    "Remember, Docker and Docker-Compose must be installed before deploying Clipper\n",
    "Make sure your Docker daemon, local or remote, is up and running.\n",
    "\n",
    "If you'd like to deploy Clipper locally, you can leave the user and key variables blank and set host=\"localhost\". Otherwise, you can deploy Clipper remotely to a machine that you have SSH access to. Set the user variable to your SSH username, the key variable to the path to your SSH key, and the host variable to the remote hostname or IP address."
   ]
  },
  {
   "cell_type": "code",
   "execution_count": null,
   "metadata": {
    "collapsed": true
   },
   "outputs": [],
   "source": [
    "# clipper_manager must be on your path:\n",
    "import sys\n",
    "import os\n",
    "sys.path.append(os.path.abspath('../../clipper_admin/'))\n",
    "import clipper_manager as cm\n",
    "# Change the username if necessary\n",
    "user = \"\"\n",
    "# Set the path to the SSH key\n",
    "key = \"\"\n",
    "# Set the SSH host\n",
    "host = \"\"\n",
    "clipper = cm.Clipper(host, user, key)\n",
    "\n",
    "clipper.start()"
   ]
  },
  {
   "cell_type": "markdown",
   "metadata": {},
   "source": [
    "Congratulations! You now have a running Clipper instance that you can start to interact with.\n",
    "Now we shall look to forge an R model. "
   ]
  },
  {
   "cell_type": "markdown",
   "metadata": {},
   "source": [
    "## Developing an R model  "
   ]
  },
  {
   "cell_type": "code",
   "execution_count": null,
   "metadata": {
    "collapsed": true
   },
   "outputs": [],
   "source": [
    "import R_model_support as RS\n",
    "\n",
    "RS.ro.r('data(mtcars)')\n",
    "model_cars =RS.ro.r('model_R <- lm(mpg~wt,data=mtcars)')"
   ]
  },
  {
   "cell_type": "markdown",
   "metadata": {},
   "source": [
    "The variable 'model_cars' is linear regression model and the dataset used to train it is \"mtcars\" provided by R itself. We now have to deploy model_cars in an R model container."
   ]
  },
  {
   "cell_type": "markdown",
   "metadata": {},
   "source": [
    "## Deploying R model"
   ]
  },
  {
   "cell_type": "markdown",
   "metadata": {},
   "source": [
    "Before deploying R model , make sure u have an image for R-Python container. To build the image, run the shell command: \"cd (clipper-root)/containers/R-Python/ && docker build -t clipper/r_python_container .\"\n",
    "\n",
    "\n",
    "Now run the following :"
   ]
  },
  {
   "cell_type": "code",
   "execution_count": null,
   "metadata": {
    "collapsed": true
   },
   "outputs": [],
   "source": [
    "model_name = \"the_R_model\"\n",
    "\n",
    "\n",
    "model_added = clipper.deploy_R_model(\n",
    "    model_name,\n",
    "    1,\n",
    "    model_cars,\n",
    "    \"clipper/r_python_container:latest\",\n",
    "    [\"time-series\", \"R\"],\n",
    "    \"strings\",\n",
    "    num_containers=1\n",
    ")\n",
    "print(\"Model deploy successful? {success}\".format(success=model_added))"
   ]
  },
  {
   "cell_type": "markdown",
   "metadata": {},
   "source": [
    "Next step is to create an application to carry out predictions with the model."
   ]
  },
  {
   "cell_type": "markdown",
   "metadata": {},
   "source": [
    "## Registering Application "
   ]
  },
  {
   "cell_type": "code",
   "execution_count": null,
   "metadata": {
    "collapsed": true
   },
   "outputs": [],
   "source": [
    "app_name = \"R_app\"\n",
    "app_model=model_name\n",
    "default_output = \"0\"\n",
    "\n",
    "clipper.register_application(\n",
    "    app_name,\n",
    "    app_model,\n",
    "    \"strings\",\n",
    "    default_output,\n",
    "    slo_micros=200000)"
   ]
  },
  {
   "cell_type": "markdown",
   "metadata": {},
   "source": [
    "Now that 'R_app' is created, let us use it to carry out predictions.  "
   ]
  },
  {
   "cell_type": "markdown",
   "metadata": {},
   "source": [
    "## Start Serving"
   ]
  },
  {
   "cell_type": "markdown",
   "metadata": {},
   "source": [
    "Here you should create a 'pandas DataFrame' that will be converted to R dataframe before passing it to model's predict function. The pandas DataFrame should be created in accordance with the deployed R model. "
   ]
  },
  {
   "cell_type": "code",
   "execution_count": null,
   "metadata": {
    "collapsed": true
   },
   "outputs": [],
   "source": [
    "df=RS.DataFrame({'wt':[5.43,6.00,7.89],'ht' :[4.32,5.76,7.90]})\n",
    "RS.start_prediction(df,app_name,host)"
   ]
  },
  {
   "cell_type": "markdown",
   "metadata": {},
   "source": [
    "You can also convert R data frames to pandas DataFrames and carry out predictions with them."
   ]
  },
  {
   "cell_type": "code",
   "execution_count": null,
   "metadata": {
    "collapsed": true
   },
   "outputs": [],
   "source": [
    "df = RS.com.load_data('mtcars')\n",
    "RS.start_prediction(df,app_name,host)"
   ]
  }
 ],
 "metadata": {
  "kernelspec": {
   "display_name": "Python 2",
   "language": "python",
   "name": "python2"
  },
  "language_info": {
   "codemirror_mode": {
    "name": "ipython",
    "version": 2
   },
   "file_extension": ".py",
   "mimetype": "text/x-python",
   "name": "python",
   "nbconvert_exporter": "python",
   "pygments_lexer": "ipython2",
   "version": "2.7.13"
  }
 },
 "nbformat": 4,
 "nbformat_minor": 2
}
