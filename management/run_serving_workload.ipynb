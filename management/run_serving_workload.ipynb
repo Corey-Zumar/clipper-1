{
 "cells": [
  {
   "cell_type": "code",
   "execution_count": null,
   "metadata": {
    "collapsed": true
   },
   "outputs": [],
   "source": [
    "import sys\n",
    "import json\n",
    "import os\n",
    "import requests\n",
    "import random\n",
    "from datetime import datetime\n",
    "import time\n",
    "\n",
    "import pandas as pd\n",
    "import numpy as np\n",
    "np.set_printoptions(threshold=np.nan)\n",
    "\n",
    "import matplotlib.pyplot as plt\n",
    "%matplotlib notebook\n"
   ]
  },
  {
   "cell_type": "markdown",
   "metadata": {},
   "source": [
    "## Run a serving workload"
   ]
  },
  {
   "cell_type": "code",
   "execution_count": null,
   "metadata": {
    "collapsed": false
   },
   "outputs": [],
   "source": [
    "classes = ['airplane', 'automobile', 'bird', 'cat',\n",
    "           'deer', 'dog', 'frog', 'horse', 'ship', 'truck']\n",
    "positive_class = classes.index('airplane')\n",
    "negative_class = classes.index('bird')\n",
    "\n",
    "def load_cifar(cifar_location, cifar_filename = \"cifar_train.data\", norm=True):\n",
    "    cifar_path = os.path.join(cifar_location,cifar_filename)\n",
    "    print(\"Source file: %s\" % cifar_path)\n",
    "    df = pd.read_csv(cifar_path, sep=\",\", header=None)\n",
    "    data = df.values\n",
    "    print(\"Number of image files: %d\" % len(data))\n",
    "    y = data[:,0]\n",
    "    X = data[:,1:]\n",
    "    Z = X\n",
    "    if norm:\n",
    "        mu = np.mean(X,0)\n",
    "        sigma = np.var(X,0)\n",
    "        Z = (X - mu) / np.array([np.sqrt(z) if z > 0 else 1. for z in sigma])\n",
    "    return (Z, y)\n",
    "\n",
    "def filter_data(X, y):\n",
    "    X_train, y_train = [], []\n",
    "    for (example, label) in zip(X, y):\n",
    "        if label == positive_class:\n",
    "            X_train.append(example)\n",
    "            y_train.append(1.0)\n",
    "        elif label == negative_class:\n",
    "            X_train.append(example)\n",
    "            y_train.append(-1.0)\n",
    "    X_train = np.array(X_train)\n",
    "    y_train = np.array(y_train)\n",
    "    return X_train, y_train\n",
    "\n",
    "            \n",
    "\n",
    "def cifar_update(host, app, uid, x, y):\n",
    "    url = \"http://%s:1337/%s/update\" % (host, app)\n",
    "    req_json = json.dumps({\n",
    "        'uid': uid,\n",
    "        'input': list(x),\n",
    "        'label': float(y),\n",
    "        # These updates aren't coming from predictions made by a particular model,\n",
    "        # so we can ignore the model name and version fields.\n",
    "        'model_name': 'NA',\n",
    "        'model_version': 1\n",
    "        })\n",
    "    headers = {'Content-type': 'application/json'}\n",
    "    start = datetime.now()\n",
    "    r = requests.post(url, headers=headers, data=req_json)\n",
    "    end = datetime.now()\n",
    "    latency = (end - start).total_seconds() * 1000.0\n",
    "    print(\"'%s', %f ms\" % (r.text, latency))\n",
    "\n",
    "def parse_pred(p):\n",
    "    splits = p.split(\",\")\n",
    "    qid = int(splits[0].strip().split(\":\")[1])\n",
    "    pred = float(splits[1].strip().split(\":\")[1])\n",
    "    return qid, pred\n",
    "\n",
    "    \n",
    "def cifar_prediction(host, app, uid, x):\n",
    "    url = \"http://%s:1337/%s/predict\" % (host, app)\n",
    "    req_json = json.dumps({'uid': uid, 'input': list(x)})\n",
    "    headers = {'Content-type': 'application/json'}\n",
    "    # x_str = \", \".join([\"%d\" % a for a in x])\n",
    "    start = datetime.now()\n",
    "    r = requests.post(url, headers=headers, data=req_json)\n",
    "    end = datetime.now()\n",
    "    latency = (end - start).total_seconds() * 1000.0\n",
    "    qid, pred = parse_pred(r.text)\n",
    "    # TODO TODO TODO: remove check for 0 once selection policy is updated\n",
    "    if pred == 0.0:\n",
    "#         print(\"Warning: Clipper predicted 0.0\")\n",
    "        pred = -1.0\n",
    "    assert pred == 1.0 or pred == -1.0\n",
    "#     pred = float(r.text.split(\":\")[1].strip())\n",
    "    return (pred, latency)\n",
    "\n",
    "\n",
    "\n",
    "def send_updates(app, num_updates):\n",
    "    uid = 0\n",
    "    for i in range(num_updates):\n",
    "        example_num = np.random.randint(0, len(test_y))\n",
    "        cifar_update(host, app, uid, test_x[example_num], float(test_y[example_num]))\n",
    "\n",
    "def run_iteration(app, uid):\n",
    "    correct = 0\n",
    "    false_pos = 0\n",
    "    false_neg = 0\n",
    "    latencies = []\n",
    "    true_pos = 0\n",
    "    true_neg = 0\n",
    "    total = 100\n",
    "    for i in range(total):\n",
    "        example_num = np.random.randint(0, len(test_y))\n",
    "        correct_y = float(test_y[example_num])\n",
    "        pred_y, latency = cifar_prediction(host, app, uid, test_x[example_num])\n",
    "        if correct_y == pred_y:\n",
    "            if correct_y == -1:\n",
    "                true_neg += 1\n",
    "            elif correct_y == 1:\n",
    "                true_pos += 1\n",
    "            correct += 1\n",
    "        elif correct_y == -1 and pred_y == 1:\n",
    "            false_pos += 1\n",
    "        elif correct_y == 1 and pred_y == -1:\n",
    "            false_neg += 1\n",
    "        else:\n",
    "            print \"predicted: {p}, correct: {c}\".format(p=pred_y, c=correct_y)\n",
    "        latencies.append(latency)\n",
    "    total = float(total)    \n",
    "    return (float(correct)/total,\n",
    "            float(false_pos)/total,\n",
    "            float(false_neg)/total,\n",
    "            float(true_pos)/total,\n",
    "            float(true_neg)/total,\n",
    "            np.mean(latencies))\n",
    "\n",
    "def run_serving_workload(app):\n",
    "    fig, (ax_acc, ax_lat) = plt.subplots(2,1, sharex=True)\n",
    "    ax_acc.set_ylabel(\"accuracy\")\n",
    "    ax_lat.set_xlabel(\"iterations\")\n",
    "    ax_lat.set_ylabel(\"latency\")\n",
    "    ax_acc.set_ylim(0, 1.0)\n",
    "    xs = []\n",
    "    accs = []\n",
    "    lats = []\n",
    "    j = 0\n",
    "    uid = 0\n",
    "    while True:\n",
    "        correct, fp, fn, tp, tn, mean_lat, = run_iteration(app, uid)\n",
    "        xs.append(j)\n",
    "        accs.append(correct)\n",
    "        lats.append(mean_lat)\n",
    "        j += 1\n",
    "        ax_acc.set_xlim(0, j + 1)\n",
    "        ax_lat.set_xlim(0, j + 1)\n",
    "        \n",
    "        ax_acc.plot(xs, accs, 'b')\n",
    "        ax_lat.plot(xs, lats, 'r')\n",
    "        ax_lat.set_ylim(0, 300)\n",
    "        fig.canvas.draw()\n",
    "        print \"Accuracy: {cor}, false positives: {fp}, false negatives: {fn}, true positives: {tp}, true negatives: {tn}\".format(\n",
    "            cor=correct, fp=fp, fn=fn, tp=tp, tn=tn)\n",
    "        print \"Mean latency: {lat} ms\".format(lat = mean_lat)\n",
    "        \n",
    "            \n",
    "    \n"
   ]
  },
  {
   "cell_type": "code",
   "execution_count": null,
   "metadata": {
    "collapsed": false
   },
   "outputs": [],
   "source": [
    "cifar_path = os.path.expanduser(\"~/model-serving/data/cifar\")\n",
    "x,y = load_cifar(cifar_path, cifar_filename=\"cifar_test.data\")\n",
    "\n",
    "\n",
    "test_x, test_y = filter_data(x,y)\n",
    "host = \"ec2-54-67-123-237.us-west-1.compute.amazonaws.com\"\n"
   ]
  },
  {
   "cell_type": "code",
   "execution_count": null,
   "metadata": {
    "collapsed": false,
    "scrolled": false
   },
   "outputs": [],
   "source": [
    "# send_updates(\"rise_demo\", 200)\n",
    "run_serving_workload(\"rise_demo\")"
   ]
  },
  {
   "cell_type": "markdown",
   "metadata": {},
   "source": [
    "------\n",
    "## Test code"
   ]
  },
  {
   "cell_type": "code",
   "execution_count": null,
   "metadata": {
    "collapsed": false
   },
   "outputs": [],
   "source": [
    "example_num = np.random.randint(len(test_x))\n",
    "print example_num\n",
    "# my_x = test_x[example_num]\n",
    "\n",
    "pred_y, latency = cifar_prediction(host, \"rise_demo2\", 4, test_x[example_num])\n",
    "print pred_y, latency"
   ]
  },
  {
   "cell_type": "code",
   "execution_count": null,
   "metadata": {
    "collapsed": false
   },
   "outputs": [],
   "source": [
    "url = \"http://localhost:1338/admin/add_app\"\n",
    "candidate_models = [\n",
    "    {\"model_name\": \"a\", \"model_version\": 1},\n",
    "    {\"model_name\": \"b\", \"model_version\": 1},\n",
    "    {\"model_name\": \"c\", \"model_version\": 1},\n",
    "    {\"model_name\": \"d\", \"model_version\": 1},\n",
    "    {\"model_name\": \"e\", \"model_version\": 1},\n",
    "    {\"model_name\": \"f\", \"model_version\": 1},\n",
    "]\n",
    "\n",
    "req_json = json.dumps({\n",
    "    \"name\": \"rise_demo2\",\n",
    "    \"candidate_models\": candidate_models,\n",
    "    \"input_type\": \"doubles\",\n",
    "    \"output_type\": \"double\",\n",
    "    \"selection_policy\": \"bandit_policy\",\n",
    "    \"latency_slo_micros\": 20000\n",
    "})\n",
    "headers = {'Content-type': 'application/json'}\n",
    "r = requests.post(url, headers=headers, data=req_json)\n",
    "print r.text\n"
   ]
  },
  {
   "cell_type": "code",
   "execution_count": null,
   "metadata": {
    "collapsed": false,
    "scrolled": false
   },
   "outputs": [],
   "source": [
    "json.dumps(list(test_x[example_num]))"
   ]
  },
  {
   "cell_type": "code",
   "execution_count": null,
   "metadata": {
    "collapsed": true
   },
   "outputs": [],
   "source": []
  }
 ],
 "metadata": {
  "kernelspec": {
   "display_name": "Python 2",
   "language": "python",
   "name": "python2"
  },
  "language_info": {
   "codemirror_mode": {
    "name": "ipython",
    "version": 2
   },
   "file_extension": ".py",
   "mimetype": "text/x-python",
   "name": "python",
   "nbconvert_exporter": "python",
   "pygments_lexer": "ipython2",
   "version": "2.7.13"
  }
 },
 "nbformat": 4,
 "nbformat_minor": 0
}
