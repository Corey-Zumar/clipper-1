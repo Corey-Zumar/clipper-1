{
 "cells": [
  {
   "cell_type": "code",
   "execution_count": null,
   "metadata": {
    "collapsed": false
   },
   "outputs": [],
   "source": [
    "%load_ext autoreload\n",
    "%autoreload 2\n",
    "import os\n",
    "import pandas as pd\n",
    "import numpy as np\n",
    "from sklearn import linear_model as lm\n",
    "from sklearn import svm\n",
    "from sklearn.ensemble import RandomForestClassifier as RFC\n",
    "from sklearn.externals import joblib\n",
    "import sys\n",
    "import json"
   ]
  },
  {
   "cell_type": "code",
   "execution_count": null,
   "metadata": {
    "collapsed": false
   },
   "outputs": [],
   "source": [
    "import clipper_manager as cl\n",
    "ec2_host = \"ec2-54-67-123-237.us-west-1.compute.amazonaws.com\"\n",
    "user = \"ubuntu\"\n",
    "key = os.path.expanduser(\"~/.ssh/aws_rsa\")\n",
    "clipper = cl.Cluster(ec2_host, user, key)"
   ]
  },
  {
   "cell_type": "code",
   "execution_count": null,
   "metadata": {
    "collapsed": false
   },
   "outputs": [],
   "source": [
    "clipper.start_clipper()"
   ]
  },
  {
   "cell_type": "code",
   "execution_count": null,
   "metadata": {
    "collapsed": false
   },
   "outputs": [],
   "source": [
    "clipper.get_app_info(\"rise_demo\")"
   ]
  },
  {
   "cell_type": "code",
   "execution_count": null,
   "metadata": {
    "collapsed": false
   },
   "outputs": [],
   "source": [
    "candidate_models = [\n",
    "    {\"model_name\": \"sklearn_cifar\", \"model_version\": 1},\n",
    "    {\"model_name\": \"tf_cifar\", \"model_version\": 1},\n",
    "]\n",
    "\n",
    "clipper.add_app(\"rise_demo\", candidate_models, input_type=\"doubles\", slo_micros=50000)"
   ]
  },
  {
   "cell_type": "code",
   "execution_count": null,
   "metadata": {
    "collapsed": false
   },
   "outputs": [],
   "source": [
    "clipper.get_app_info(\"rise_demo\")"
   ]
  },
  {
   "cell_type": "markdown",
   "metadata": {},
   "source": [
    "# Train Scikit-Learn SVM"
   ]
  },
  {
   "cell_type": "code",
   "execution_count": null,
   "metadata": {
    "collapsed": true
   },
   "outputs": [],
   "source": [
    "import numpy as np\n",
    "import os\n",
    "import pandas as pd\n",
    "from sklearn import svm\n",
    "from sklearn.externals import joblib\n",
    "\n",
    "classes = ['airplane', 'automobile', 'bird', 'cat',\n",
    "           'deer', 'dog', 'frog', 'horse', 'ship', 'truck']\n",
    "positive_class = classes.index('airplane')\n",
    "negative_class = classes.index('bird')\n",
    "\n",
    "def load_cifar(cifar_location, cifar_filename = \"cifar_train.data\", norm=True):\n",
    "    cifar_path = os.path.join(cifar_location,cifar_filename)\n",
    "    print(\"Source file: %s\" % cifar_path)\n",
    "    df = pd.read_csv(cifar_path, sep=\",\", header=None)\n",
    "    data = df.values\n",
    "    print(\"Number of image files: %d\" % len(data))\n",
    "    y = data[:,0]\n",
    "    X = data[:,1:]\n",
    "    Z = X\n",
    "    if norm:\n",
    "        mu = np.mean(X,0)\n",
    "        sigma = np.var(X,0)\n",
    "        Z = (X - mu) / np.array([np.sqrt(z) if z > 0 else 1. for z in sigma])\n",
    "    return (Z, y)\n",
    "\n",
    "def filter_data(X, y):\n",
    "    X_train, y_train = [], []\n",
    "    for (example, label) in zip(X, y):\n",
    "        if label == positive_class:\n",
    "            X_train.append(example)\n",
    "            y_train.append(1.0)\n",
    "        elif label == negative_class:\n",
    "            X_train.append(example)\n",
    "            y_train.append(-1.0)\n",
    "    X_train = np.array(X_train)\n",
    "    y_train = np.array(y_train)\n",
    "    return X_train, y_train\n"
   ]
  },
  {
   "cell_type": "markdown",
   "metadata": {},
   "source": [
    "## Load CIFAR-10 Data"
   ]
  },
  {
   "cell_type": "code",
   "execution_count": null,
   "metadata": {
    "collapsed": false
   },
   "outputs": [],
   "source": [
    "cifar_path = os.path.expanduser(\"~/model-serving/data/cifar\")\n",
    "X, y = load_cifar(cifar_path)\n",
    "X_train, y_train = filter_data(X, y)\n",
    "\n",
    "X_test, y_test = load_cifar(cifar_path, 'cifar_test.data')\n",
    "X_test, y_test = filter_data(X_test, y_test)"
   ]
  },
  {
   "cell_type": "markdown",
   "metadata": {},
   "source": [
    "## Train and score model"
   ]
  },
  {
   "cell_type": "code",
   "execution_count": null,
   "metadata": {
    "collapsed": false
   },
   "outputs": [],
   "source": [
    "def train_model(m):\n",
    "    m.fit(X_train, y_train)\n",
    "    print(m.score(X_train[:1000], y_train[:1000]))\n",
    "    print(m.score(X_test, y_test))\n",
    "    return m\n",
    "    \n",
    "lin_model = train_model(lm.LogisticRegression())\n",
    "# svm_model = train_model(svm.LinearSVC())"
   ]
  },
  {
   "cell_type": "markdown",
   "metadata": {},
   "source": [
    "## Deploy Scikit-Learn Model"
   ]
  },
  {
   "cell_type": "code",
   "execution_count": null,
   "metadata": {
    "collapsed": false,
    "scrolled": true
   },
   "outputs": [],
   "source": [
    "model_added = clipper.add_sklearn_model(\n",
    "    \"sklearn_cifar\",\n",
    "    1,\n",
    "    lin_model,\n",
    "    \"clipper/sklearn_cifar_container\",\n",
    "    [\"cifar\", \"sklearn\"],\n",
    "    input_type=\"doubles\",\n",
    "    num_containers=1\n",
    ")\n",
    "\n",
    "# model_added = clipper.add_sklearn_model(\n",
    "#     \"sklearn_cifar\",\n",
    "#     1,\n",
    "#     \"/tmp/sklearn_cifar\",\n",
    "#     \"clipper/sklearn_cifar_container\",\n",
    "#     [\"cifar\", \"sklearn\"],\n",
    "#     \"floats\"\n",
    "# )\n",
    "print model_added"
   ]
  },
  {
   "cell_type": "code",
   "execution_count": null,
   "metadata": {
    "collapsed": false,
    "scrolled": false
   },
   "outputs": [],
   "source": [
    "clipper.add_container(\"sklearn_cifar\", 1)"
   ]
  },
  {
   "cell_type": "markdown",
   "metadata": {
    "collapsed": true
   },
   "source": [
    "# Clean Up"
   ]
  },
  {
   "cell_type": "code",
   "execution_count": null,
   "metadata": {
    "collapsed": false
   },
   "outputs": [],
   "source": [
    "# clipper.stop_all()\n",
    "clipper.cleanup()"
   ]
  },
  {
   "cell_type": "code",
   "execution_count": null,
   "metadata": {
    "collapsed": false
   },
   "outputs": [],
   "source": []
  },
  {
   "cell_type": "code",
   "execution_count": null,
   "metadata": {
    "collapsed": true
   },
   "outputs": [],
   "source": []
  }
 ],
 "metadata": {
  "kernelspec": {
   "display_name": "Python 2",
   "language": "python",
   "name": "python2"
  },
  "language_info": {
   "codemirror_mode": {
    "name": "ipython",
    "version": 2
   },
   "file_extension": ".py",
   "mimetype": "text/x-python",
   "name": "python",
   "nbconvert_exporter": "python",
   "pygments_lexer": "ipython2",
   "version": "2.7.13"
  }
 },
 "nbformat": 4,
 "nbformat_minor": 0
}
